{
  "nbformat": 4,
  "nbformat_minor": 0,
  "metadata": {
    "colab": {
      "provenance": [],
      "include_colab_link": true
    },
    "kernelspec": {
      "name": "python3",
      "display_name": "Python 3"
    },
    "language_info": {
      "name": "python"
    }
  },
  "cells": [
    {
      "cell_type": "markdown",
      "metadata": {
        "id": "view-in-github",
        "colab_type": "text"
      },
      "source": [
        "<a href=\"https://colab.research.google.com/github/entomolab/DevBug/blob/main/devbug.ipynb\" target=\"_parent\"><img src=\"https://colab.research.google.com/assets/colab-badge.svg\" alt=\"Open In Colab\"/></a>"
      ]
    },
    {
      "cell_type": "markdown",
      "source": [
        "# **Costa Rica BIG DATA School**\n",
        "December, 2022"
      ],
      "metadata": {
        "id": "lPDPH_R4ZeFm"
      }
    },
    {
      "cell_type": "markdown",
      "source": [
        "# Carga de los objetos necesarios del model SIR"
      ],
      "metadata": {
        "id": "x9skPgsWj2iZ"
      }
    },
    {
      "cell_type": "code",
      "source": [
        "import numpy as np\n",
        "import random\n",
        "\n",
        "\n",
        "# Person Object AKA Joe\n",
        "class Person(object):\n",
        "    def __init__(self):\n",
        "        self.status = \"Susceptible\"\n",
        "        self.days_sick = 0\n",
        "        self.sickness_rate = 10\n",
        "        self.Interaction = []\n",
        "        self.masked = False\n",
        "        self.vaccine = 0\n",
        "        \n",
        "    def maskUp(self, wears_mask):\n",
        "        if (wears_mask):\n",
        "            self.set_sickness_rate(self.sickness_rate/2)\n",
        "            self.masked = True\n",
        "    \n",
        "    def set_sickness_rate(self, new_rate):\n",
        "        self.sickness_rate = new_rate\n",
        "\n",
        "    def get_vaccine(self):\n",
        "      return self.vaccine\n",
        "    \n",
        "    def infect(self, number_of_days_sick):\n",
        "        self.status = \"Infected\"\n",
        "        self.days_sick = number_of_days_sick\n",
        "    \n",
        "    def recover(self):\n",
        "        self.status = \"Recovered\"\n",
        "        self.days_sick = 0\n",
        "    \n",
        "    def update(self):\n",
        "        if (self.status == \"Susceptible\"):\n",
        "            self.roll_for_infection()\n",
        "            \n",
        "        elif (self.status == \"Infected\"):            \n",
        "            self.days_sick = self.days_sick - 1\n",
        "            if (self.days_sick <= 0):\n",
        "                self.recover()\n",
        "\n",
        "    def update_days_sick(self):\n",
        "        if (self.status == \"Infected\"):            \n",
        "            self.days_sick = self.days_sick - 1\n",
        "            if (self.days_sick <= 0):\n",
        "                self.recover()\n",
        "\n",
        "    def vaccination(self):\n",
        "      if self.vaccine < 4:\n",
        "        self.vaccine += 1\n",
        "        self.set_sickness_rate(self.sickness_rate -(0.5)\n",
        "           \n",
        "    def roll_for_infection(self):\n",
        "        is_sick = (random.randint(0,101) < self.sickness_rate)\n",
        "        if (is_sick):\n",
        "            self.infect(4)"
      ],
      "metadata": {
        "id": "hHnKahYPj2Eq"
      },
      "execution_count": null,
      "outputs": []
    },
    {
      "cell_type": "code",
      "source": [
        "# Population Object\n",
        "class Population:\n",
        "    def __init__(self, number=100, interaction=10, percentage_masked=0):\n",
        "        self.People = []\n",
        "        self.number = number\n",
        "        self.interaction = interaction\n",
        "        self.percentage_masked = percentage_masked\n",
        "        \n",
        "        if (number < 100):\n",
        "            self.number = 100\n",
        "        \n",
        "        if (interaction < 10):\n",
        "            self.interaction = 10\n",
        "        \n",
        "        ##build our population\n",
        "        patient_Zero = Person()\n",
        "        patient_Zero.infect(5)\n",
        "        \n",
        "        self.People.append(patient_Zero)\n",
        "        \n",
        "        for i in range(0,number):\n",
        "            p = Person()\n",
        "            if (i < number*(self.percentage_masked/100.0) and self.percentage_masked>0):\n",
        "                p.maskUp(True)\n",
        "            self.People.append(p)\n",
        "     \n",
        "    def number_of_sick(self):\n",
        "        sick_Count = 0\n",
        "        for j in self.People:\n",
        "            if (j.status == \"Infected\"):\n",
        "              sick_Count = sick_Count + 1\n",
        "                \n",
        "        return sick_Count\n",
        "    \n",
        "    def number_of_recovered(self):\n",
        "        recovered_Count = 0\n",
        "        for j in self.People:\n",
        "            if (j.status == \"Recovered\"):\n",
        "                recovered_Count = recovered_Count + 1\n",
        "        \n",
        "        return recovered_Count\n",
        "    \n",
        "    def number_of_susceptible(self):\n",
        "        susceptible_Count = 0\n",
        "        for j in self.People:\n",
        "            if (j.status == \"Susceptible\"):\n",
        "                susceptible_Count = susceptible_Count + 1\n",
        "                \n",
        "        return susceptible_Count\n",
        "    \n",
        "    def number_masked(self):\n",
        "        masked_Count = 0\n",
        "        for j in self.People:\n",
        "            if (j.masked):\n",
        "                masked_Count = masked_Count + 1\n",
        "        \n",
        "        return masked_Count\n",
        "    \n",
        "    def number_masked_sick(self):\n",
        "        masked_SickCount = 0\n",
        "        for j in self.People:\n",
        "            if (j.masked and j.status == \"Infected\"):\n",
        "                masked_SickCount = masked_SickCount + 1\n",
        "        \n",
        "        return masked_SickCount\n",
        "\n",
        "###Por aca vamos.....\n",
        "    def number_vacO(self):\n",
        "        masked_SickCount = 0\n",
        "        for j in self.People:\n",
        "            if (j.masked and j.status == \"Infected\"):\n",
        "                masked_SickCount = masked_SickCount + 1\n",
        "        \n",
        "        return masked_SickCount\n",
        "\n",
        "    def mass_vaccination(self, time):\n",
        "      amount_people = self.People.len() * 0.4\n",
        "      for i in range(0, amount_people):\n",
        "        r = random.randint(0, self.People.len())\n",
        "        if (people[r].get_vaccine() < time):\n",
        "            person.vaccination()\n",
        "        else:\n",
        "          i -= 1\n",
        "\n",
        "    ## Here's the brains of the Population class (and our code)\n",
        "    ## the update will be ran everyday (meaning, every iteration of our while loop)\n",
        "    ## build interaction tables (who interacted with whom)\n",
        "    ## if marked sick they must roll to see if (one per interaction)\n",
        "    ## if I interacted with 10 people, each of them must roll and vice versa if they\n",
        "    ## they were marked as infected\n",
        "    def update(self):\n",
        "        ## people who are might get sick\n",
        "        might_Get_Sick = []\n",
        "        \n",
        "        for person in self.People:\n",
        "            \n",
        "            #clear out your interactions per day\n",
        "            person.Interaction = []\n",
        "            \n",
        "            ##These are the n number of people that you interact with\n",
        "            for i in range(0, self.interaction):\n",
        "                r = random.randint(0,self.number)\n",
        "                person.Interaction.append(r)\n",
        "                \n",
        "            ##if \"person\" is Infected, every single person they interacted with might get sick\n",
        "            if (person.status == \"Infected\"):\n",
        "                person.update_days_sick()\n",
        "                \n",
        "                for m in person.Interaction:\n",
        "                    if (self.People[m].status == \"Susceptible\"): #only susceptible people can get sick\n",
        "                        might_Get_Sick.append(self.People[m])\n",
        "            \n",
        "            ##if \"person\" is susceptible and they interact w/ someone who is \"infected\" \n",
        "            ##person gets added to the \"might get sick\"\n",
        "            if (person.status == \"Susceptible\"):\n",
        "                for m in person.Interaction:\n",
        "                    if (self.People[m].status == \"Infected\"):\n",
        "                        might_Get_Sick.append(person)\n",
        "            \n",
        "        ##Now! We're going to roll through our \"Might Get Sick\" and they each roll a die\n",
        "        ##this is only a list of susceptible people\n",
        "        for p in might_Get_Sick:\n",
        "            p.roll_for_infection()"
      ],
      "metadata": {
        "id": "HEbyWUxTkMAI"
      },
      "execution_count": null,
      "outputs": []
    },
    {
      "cell_type": "code",
      "source": [
        "# Define the Community\n",
        "# Population( size_of_population, number_of_interactions, percentage_wearing_masks)\n",
        "myCommunity = Population(8000,10,50)\n",
        "day = 0\n",
        "my_plot = []\n",
        "number_sick = myCommunity.number_of_sick()\n",
        "while (number_sick > 0):\n",
        "    number_sick = myCommunity.number_of_sick()\n",
        "    number_recovered = myCommunity.number_of_recovered()\n",
        "    number_masked = myCommunity.number_masked()\n",
        "    number_masked_sick = myCommunity.number_masked_sick()\n",
        "    number_vaccine = myCommunity.\n",
        "    \n",
        "    my_plot.append([day, number_sick, number_recovered])\n",
        "    \n",
        "    if (myCommunity.percentage_masked > 0):\n",
        "        print (\"day:\", day, \"Number of sick:\", number_sick, \"Hosptalized:\", number_sick*(.04), \"Sick Mask Wearers:\", number_masked_sick, \"Mask Wearers:\", number_masked)\n",
        "    else:\n",
        "        print (\"day:\", day, \"Number of sick:\", number_sick)\n",
        "    \n",
        "    day = day+1\n",
        "    myCommunity.update()\n",
        "\n",
        "#print (\"day:\", day, \"Number of sick:\", myCommunity.number_of_sick())\n",
        "print (\"Number recovered:\", myCommunity.number_of_recovered())\n",
        "print (\"Number susceptible:\", myCommunity.number_of_susceptible())"
      ],
      "metadata": {
        "id": "N2bMGbTkkSBL",
        "colab": {
          "base_uri": "https://localhost:8080/",
          "height": 130
        },
        "outputId": "54bb2a19-83a2-4ae9-8936-3cfeee74ff4e"
      },
      "execution_count": null,
      "outputs": [
        {
          "output_type": "error",
          "ename": "SyntaxError",
          "evalue": "ignored",
          "traceback": [
            "\u001b[0;36m  File \u001b[0;32m\"<ipython-input-9-a8c32c918840>\"\u001b[0;36m, line \u001b[0;32m12\u001b[0m\n\u001b[0;31m    number_vaccine = myCommunity.\u001b[0m\n\u001b[0m                                 ^\u001b[0m\n\u001b[0;31mSyntaxError\u001b[0m\u001b[0;31m:\u001b[0m invalid syntax\n"
          ]
        }
      ]
    },
    {
      "cell_type": "code",
      "source": [
        "def myCommunityTests(pop_test, interactions_test, masked_test):\n",
        "    # Population( size_of_population, number_of_interactions, percentage_wearing_masks)\n",
        "    myCommunity = Population(pop_test,interactions_test,masked_test)\n",
        "    day = 0\n",
        "    my_plot = []\n",
        "    number_sick = myCommunity.number_of_sick()\n",
        "    while (number_sick > 0):\n",
        "        number_sick = myCommunity.number_of_sick()\n",
        "        number_recovered = myCommunity.number_of_recovered()\n",
        "        number_masked = myCommunity.number_masked()\n",
        "        number_masked_sick = myCommunity.number_masked_sick()\n",
        "    \n",
        "        my_plot.append([day, number_sick, number_recovered])\n",
        "    \n",
        "        if (myCommunity.percentage_masked > 0):\n",
        "            print (\"day:\", day, \"Number of sick:\", number_sick, \"Hosptalized:\", number_sick*(.04), \"Sick Mask Wearers:\", number_masked_sick, \"Mask Wearers:\", number_masked)\n",
        "        else:\n",
        "            print (\"day:\", day, \"Number of sick:\", number_sick)\n",
        "    \n",
        "        day = day+1\n",
        "        myCommunity.update()\n",
        "\n",
        "    #print (\"day:\", day, \"Number of sick:\", myCommunity.number_of_sick())\n",
        "    print (\"Number recovered:\", myCommunity.number_of_recovered())\n",
        "    print (\"Number susceptible:\", myCommunity.number_of_susceptible())"
      ],
      "metadata": {
        "id": "YS2AB9CqkVev"
      },
      "execution_count": null,
      "outputs": []
    },
    {
      "cell_type": "code",
      "source": [
        "myCommunityTests(500, 3, 40)"
      ],
      "metadata": {
        "id": "--4v2SQ0kXjg"
      },
      "execution_count": null,
      "outputs": []
    },
    {
      "cell_type": "code",
      "source": [
        "# Alter the myCommunityTests function to ouput wanted data to a csv\n",
        "\n",
        "#Ex: Population_Size, Number_Interactions, Percentage_Masked, Total_Days, Number_Recovered, Number_Suceptible, Max_Sick, Max_Hospitalized\n",
        "import pandas as pd\n",
        "\n",
        "def myCommunityTests_toDict(pop_test, interactions_test, masked_test, hospitalization_rate = .04):\n",
        "    # Population( size_of_population, number_of_interactions, percentage_wearing_masks)\n",
        "    myCommunity = Population(pop_test,interactions_test,masked_test)\n",
        "    day = 0\n",
        "    my_plot = []\n",
        "    simulation_sumary = {\n",
        "        \"Population_Size\" : pop_test,\n",
        "        \"Number_Interactions\" : interactions_test,\n",
        "        \"Percentage_Masked\" : masked_test,\n",
        "        \"Hospitalization_Rate\" : hospitalization_rate\n",
        "    }\n",
        "    \n",
        "    number_sick = myCommunity.number_of_sick()\n",
        "    while (number_sick > 0):\n",
        "        number_sick = myCommunity.number_of_sick()\n",
        "        number_recovered = myCommunity.number_of_recovered()\n",
        "        number_masked = myCommunity.number_masked()\n",
        "        number_masked_sick = myCommunity.number_masked_sick()\n",
        "    \n",
        "        my_plot.append([day, number_sick, number_recovered, number_sick*(hospitalization_rate), number_masked_sick, number_masked])\n",
        "    \n",
        "        #if (myCommunity.percentage_masked > 0):\n",
        "            #print (\"day:\", day, \"Number of sick:\", number_sick, \"Hosptalized:\", number_sick*(hospitalization_rate), \"Sick Mask Wearers:\", number_masked_sick, \"Mask Wearers:\", number_masked)\n",
        "        #else:\n",
        "            #print (\"day:\", day, \"Number of sick:\", number_sick)\n",
        "    \n",
        "        day = day+1\n",
        "        myCommunity.update()\n",
        "    \n",
        "    dataset = pd.DataFrame(my_plot, columns=['day','number_sick', 'number_recovered','hosptalized', 'sick_mask_wearers','mask_wearers' ])\n",
        "    #print (\"day:\", day, \"Number of sick:\", myCommunity.number_of_sick())\n",
        "    #print (\"Number recovered:\", myCommunity.number_of_recovered())\n",
        "    simulation_sumary[\"recovered\"] = myCommunity.number_of_recovered()\n",
        "    #print (\"Number susceptible:\", myCommunity.number_of_susceptible())\n",
        "    simulation_sumary[\"susceptible\"] = myCommunity.number_of_susceptible()\n",
        "    #print (dataset.head())\n",
        "    simulation_sumary[\"total_days\"] = dataset[\"day\"].max()\n",
        "    simulation_sumary[\"max_sick\"] = dataset[\"number_sick\"].max()\n",
        "    simulation_sumary[\"max_hosptalized\"] = dataset[\"hosptalized\"].max()\n",
        "    simulation_sumary[\"max_sick_mask_wearers\"] = dataset[\"sick_mask_wearers\"].max()\n",
        "    simulation_sumary[\"total_mask_wearers\"] = dataset[\"mask_wearers\"].max()\n",
        "    \n",
        "    print(simulation_sumary)\n",
        "    return simulation_sumary"
      ],
      "metadata": {
        "id": "Roa4k94Ska1z"
      },
      "execution_count": null,
      "outputs": []
    },
    {
      "cell_type": "code",
      "source": [
        "myCommunityTests_toDict(5000, 5, 50)"
      ],
      "metadata": {
        "colab": {
          "base_uri": "https://localhost:8080/"
        },
        "id": "eeDccmJgkdOj",
        "outputId": "d153492e-2992-4a52-e704-436e41680f38"
      },
      "execution_count": null,
      "outputs": [
        {
          "output_type": "stream",
          "name": "stdout",
          "text": [
            "{'Population_Size': 5000, 'Number_Interactions': 5, 'Percentage_Masked': 50, 'Hospitalization_Rate': 0.04, 'recovered': 4942, 'susceptible': 59, 'total_days': 24, 'max_sick': 3686, 'max_hosptalized': 147.44, 'max_sick_mask_wearers': 1799, 'total_mask_wearers': 2500}\n"
          ]
        },
        {
          "output_type": "execute_result",
          "data": {
            "text/plain": [
              "{'Population_Size': 5000,\n",
              " 'Number_Interactions': 5,\n",
              " 'Percentage_Masked': 50,\n",
              " 'Hospitalization_Rate': 0.04,\n",
              " 'recovered': 4942,\n",
              " 'susceptible': 59,\n",
              " 'total_days': 24,\n",
              " 'max_sick': 3686,\n",
              " 'max_hosptalized': 147.44,\n",
              " 'max_sick_mask_wearers': 1799,\n",
              " 'total_mask_wearers': 2500}"
            ]
          },
          "metadata": {},
          "execution_count": 7
        }
      ]
    },
    {
      "cell_type": "code",
      "source": [
        "import csv\n",
        "\n",
        "test_population = 3000\n",
        "maximum_interactions = 10\n",
        "maximum_mask_percentage = 20\n",
        "hospital_rate = .4\n",
        "\n",
        "# Name of the output csv file\n",
        "filename = \"mycsvfile0.csv\"\n",
        "\n",
        "\n",
        "for i in range(0, maximum_interactions, 1):\n",
        "     for m in range(0, maximum_mask_percentage, 1):\n",
        "        \n",
        "          sim_data = myCommunityTests_toDict(test_population, i, m, hospital_rate)\n",
        "          print(sim_data)\n",
        "    \n",
        "          if (i == 0 and m == 0):\n",
        "             with open(filename, 'w') as f:  \n",
        "                 w = csv.DictWriter(f, sim_data.keys())\n",
        "                 w.writeheader()\n",
        "          else:\n",
        "              with open(filename, 'a') as f:  # You will need 'wb' mode in Python 2.x\n",
        "                w = csv.DictWriter(f, sim_data.keys())\n",
        "                w.writerow(sim_data)"
      ],
      "metadata": {
        "id": "ommBQvyHkg7p"
      },
      "execution_count": null,
      "outputs": []
    },
    {
      "cell_type": "code",
      "execution_count": null,
      "metadata": {
        "id": "C4weZWeVZaAN"
      },
      "outputs": [],
      "source": [
        "from sklearn import linear_model\n",
        "\n",
        "# import the dataset into a pandas DataFrame\n",
        "import pandas as pd\n",
        "import numpy as np"
      ]
    },
    {
      "cell_type": "code",
      "source": [
        "diseaseData = pd.read_csv(\"mycsvfile.csv\") "
      ],
      "metadata": {
        "id": "md_3XkExkqb4"
      },
      "execution_count": null,
      "outputs": []
    },
    {
      "cell_type": "code",
      "source": [
        "# Create training and test datasets where train contains the variables and test the results\n",
        "train_percentage = .4 #train based on 80% of the dataset\n",
        "\n",
        "msk = np.random.rand(len(diseaseData)) < train_percentage\n",
        "print(msk)\n",
        "train = diseaseData[msk]\n",
        "test = diseaseData[~msk]\n",
        "\n",
        "print(\"Number of Training Samples:\",len(train))\n",
        "print(\"Number of Test Samples:\",len(test))\n",
        "\n",
        "# Create X and Y datasets for both train and test where \n",
        "# X contains the variables and Y the results\n",
        "\n",
        "#variable to check against\n",
        "#test_variable = \"max_sick\"\n",
        "test_variable = \"max_sick_mask_wearers\"\n",
        "\n",
        "\n",
        "train_X = train.drop(columns =[test_variable])\n",
        "train_Y = train[test_variable]\n",
        "test_X = test.drop(columns =[test_variable])\n",
        "test_Y = test[test_variable]"
      ],
      "metadata": {
        "id": "Rv6eMQQ_kuNY"
      },
      "execution_count": null,
      "outputs": []
    },
    {
      "cell_type": "code",
      "source": [
        "regr = linear_model.LinearRegression()"
      ],
      "metadata": {
        "id": "Q3L_FNmDkwt4",
        "colab": {
          "base_uri": "https://localhost:8080/",
          "height": 165
        },
        "outputId": "6f8ae8f1-be45-407d-e301-3293a2f366a5"
      },
      "execution_count": null,
      "outputs": [
        {
          "output_type": "error",
          "ename": "NameError",
          "evalue": "ignored",
          "traceback": [
            "\u001b[0;31m---------------------------------------------------------------------------\u001b[0m",
            "\u001b[0;31mNameError\u001b[0m                                 Traceback (most recent call last)",
            "\u001b[0;32m<ipython-input-1-06556c22c606>\u001b[0m in \u001b[0;36m<module>\u001b[0;34m\u001b[0m\n\u001b[0;32m----> 1\u001b[0;31m \u001b[0mregr\u001b[0m \u001b[0;34m=\u001b[0m \u001b[0mlinear_model\u001b[0m\u001b[0;34m.\u001b[0m\u001b[0mLinearRegression\u001b[0m\u001b[0;34m(\u001b[0m\u001b[0;34m)\u001b[0m\u001b[0;34m\u001b[0m\u001b[0;34m\u001b[0m\u001b[0m\n\u001b[0m",
            "\u001b[0;31mNameError\u001b[0m: name 'linear_model' is not defined"
          ]
        }
      ]
    },
    {
      "cell_type": "code",
      "source": [
        "regr.fit(train_X, train_Y)"
      ],
      "metadata": {
        "colab": {
          "base_uri": "https://localhost:8080/"
        },
        "id": "cpi6mFVkky9R",
        "outputId": "0c612682-9fc4-4780-951f-3116479cf684"
      },
      "execution_count": null,
      "outputs": [
        {
          "output_type": "execute_result",
          "data": {
            "text/plain": [
              "LinearRegression()"
            ]
          },
          "metadata": {},
          "execution_count": 17
        }
      ]
    },
    {
      "cell_type": "code",
      "source": [
        "print(regr.coef_) "
      ],
      "metadata": {
        "colab": {
          "base_uri": "https://localhost:8080/"
        },
        "id": "mgjuEmbIk14b",
        "outputId": "a33bc93e-e035-430e-e67e-388998feaab3"
      },
      "execution_count": null,
      "outputs": [
        {
          "output_type": "stream",
          "name": "stdout",
          "text": [
            "[ 0.00000000e+00 -4.10612366e-01 -3.01725269e+01 -7.71302035e+07\n",
            "  4.99646173e+10  4.99646173e+10 -5.99447734e-01  4.17930969e+10\n",
            " -1.04482742e+11  1.80498403e+00]\n"
          ]
        }
      ]
    },
    {
      "cell_type": "code",
      "source": [
        "np.mean((regr.predict(test_X) - test_Y)**2)"
      ],
      "metadata": {
        "colab": {
          "base_uri": "https://localhost:8080/"
        },
        "id": "TJ2YP7uwk4Qx",
        "outputId": "04bfb6d6-d6ab-420c-e14c-c2fb93570764"
      },
      "execution_count": null,
      "outputs": [
        {
          "output_type": "execute_result",
          "data": {
            "text/plain": [
              "49.68351499495968"
            ]
          },
          "metadata": {},
          "execution_count": 19
        }
      ]
    },
    {
      "cell_type": "code",
      "source": [
        "regr.score(test_X, test_Y)"
      ],
      "metadata": {
        "colab": {
          "base_uri": "https://localhost:8080/"
        },
        "id": "F1TvP7qSk6er",
        "outputId": "31157696-2176-462a-f3cc-bb5dff191310"
      },
      "execution_count": null,
      "outputs": [
        {
          "output_type": "execute_result",
          "data": {
            "text/plain": [
              "0.9970561968272293"
            ]
          },
          "metadata": {},
          "execution_count": 20
        }
      ]
    },
    {
      "cell_type": "markdown",
      "source": [
        "# Graphical analysis"
      ],
      "metadata": {
        "id": "3uzlfeXGf_-Z"
      }
    },
    {
      "cell_type": "code",
      "source": [
        "import seaborn as sns #importando Seaborn"
      ],
      "metadata": {
        "id": "in6PxLkGgFX4"
      },
      "execution_count": null,
      "outputs": []
    },
    {
      "cell_type": "code",
      "source": [
        "sns.joinplot(x='a', \n",
        "           y='Hospitalization_Rate', \n",
        "           hue='amount_vaccine', \n",
        "           col=\"time\", data=diseaseData)"
      ],
      "metadata": {
        "id": "_XHGTe6Zgx2y",
        "colab": {
          "base_uri": "https://localhost:8080/",
          "height": 217
        },
        "outputId": "2e67c42f-c1a6-4bb1-c530-3e64b291a8bd"
      },
      "execution_count": null,
      "outputs": [
        {
          "output_type": "error",
          "ename": "AttributeError",
          "evalue": "ignored",
          "traceback": [
            "\u001b[0;31m---------------------------------------------------------------------------\u001b[0m",
            "\u001b[0;31mAttributeError\u001b[0m                            Traceback (most recent call last)",
            "\u001b[0;32m<ipython-input-5-676ed39cc1ae>\u001b[0m in \u001b[0;36m<module>\u001b[0;34m\u001b[0m\n\u001b[0;32m----> 1\u001b[0;31m sns.joinplot(x='a', \n\u001b[0m\u001b[1;32m      2\u001b[0m            \u001b[0my\u001b[0m\u001b[0;34m=\u001b[0m\u001b[0;34m'Hospitalization_Rate'\u001b[0m\u001b[0;34m,\u001b[0m\u001b[0;34m\u001b[0m\u001b[0;34m\u001b[0m\u001b[0m\n\u001b[1;32m      3\u001b[0m            \u001b[0mhue\u001b[0m\u001b[0;34m=\u001b[0m\u001b[0;34m'amount_vaccine'\u001b[0m\u001b[0;34m,\u001b[0m\u001b[0;34m\u001b[0m\u001b[0;34m\u001b[0m\u001b[0m\n\u001b[1;32m      4\u001b[0m            col=\"time\", data=diseaseData)\n",
            "\u001b[0;31mAttributeError\u001b[0m: module 'seaborn' has no attribute 'joinplot'"
          ]
        }
      ]
    },
    {
      "cell_type": "code",
      "source": [
        "sns.set_theme(style=\"darkgrid\")\n",
        "sns.lmplot(x=\"total_bill\", y=\"tip\", hue=\"smoker\", data=tips,\n",
        "           markers=[\"o\", \"x\"], palette=\"Set1\");"
      ],
      "metadata": {
        "id": "6137M4_yg8_D",
        "colab": {
          "base_uri": "https://localhost:8080/",
          "height": 365
        },
        "outputId": "53556b84-4858-4911-dcad-40e7ed171e89"
      },
      "execution_count": 24,
      "outputs": [
        {
          "output_type": "display_data",
          "data": {
            "text/plain": [
              "<Figure size 417.475x360 with 1 Axes>"
            ],
            "image/png": "[encoded data removed]"
          },
          "metadata": {}
        }
      ]
    },
    {
      "cell_type": "code",
      "source": [
        "import seaborn as sns\n",
        "sns.set_theme(style=\"darkgrid\")\n",
        "\n",
        "tips = sns.load_dataset(\"tips\")\n",
        "g = sns.jointplot(x=\"total_bill\", y=\"tip\", data=tips,\n",
        "                  kind=\"reg\", truncate=False, hue='smoker',\n",
        "                  xlim=(0, 60), ylim=(0, 12),\n",
        "                  color=\"m\", height=7)"
      ],
      "metadata": {
        "id": "wLz1R7Hbg2Re"
      },
      "execution_count": null,
      "outputs": []
    },
    {
      "cell_type": "code",
      "source": [
        "import seaborn as sns\n",
        "sns.set_theme(style=\"darkgrid\")\n",
        "\n",
        "tips = sns.load_dataset(\"tips\")\n",
        "\n",
        "g = sns.jointplot(x=\"total_bill\", \n",
        "                  y=\"tip\", \n",
        "                  data=tips,\n",
        "                  kind=\"reg\", \n",
        "                  truncate=False,\n",
        "                  xlim=(0, 60), ylim=(0, 12),\n",
        "                  color=\"m\", height=7)"
      ],
      "metadata": {
        "colab": {
          "base_uri": "https://localhost:8080/",
          "height": 509
        },
        "id": "OMvhzYZXmUIH",
        "outputId": "3087d534-72b4-44e8-887c-864e2e790f2d"
      },
      "execution_count": 22,
      "outputs": [
        {
          "output_type": "display_data",
          "data": {
            "text/plain": [
              "<Figure size 504x504 with 3 Axes>"
            ],
            "image/png": "[encoded data removed]"
          },
          "metadata": {}
        }
      ]
    },
    {
      "cell_type": "code",
      "source": [
        "import matplotlib.pyplot as plt\n",
        "import numpy as np\n",
        "\n",
        "tips\n",
        "\n",
        "total_bill = tips['total_bill']\n",
        "tip = tips['tip']"
      ],
      "metadata": {
        "id": "SscaTuJ67Hrc"
      },
      "execution_count": 34,
      "outputs": []
    },
    {
      "cell_type": "code",
      "source": [
        "fig, ax = plt.subplots(figsize = (9, 9))\n",
        "\n",
        "ax.scatter(total_bill, tip, s=60, alpha=0.7, edgecolors=\"k\")\n",
        "b, a = np.polyfit(total_bill, tip, deg=1)\n",
        "ax.plot(total_bill, a + b * total_bill, color=\"k\", lw=3);"
      ],
      "metadata": {
        "id": "SfRNemE3yo-j",
        "colab": {
          "base_uri": "https://localhost:8080/",
          "height": 540
        },
        "outputId": "98e901f0-6f19-494c-bb95-a6a522a08cff"
      },
      "execution_count": 39,
      "outputs": [
        {
          "output_type": "display_data",
          "data": {
            "text/plain": [
              "<Figure size 648x648 with 1 Axes>"
            ],
            "image/png": "[encoded data removed]"
          },
          "metadata": {}
        }
      ]
    }
  ]
}